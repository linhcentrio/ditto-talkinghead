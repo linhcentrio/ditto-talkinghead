{
 "cells": [
  {
   "cell_type": "markdown",
   "metadata": {
    "id": "header_section"
   },
   "source": [
    "# 🎭 Ditto Talking Head - Complete Setup for Google Colab\n",
    "\n",
    "[![Open In Colab](https://colab.research.google.com/assets/colab-badge.svg)](https://colab.research.google.com/github/linhcentrio/ditto-talkinghead/blob/colab/ditto_talkinghead_latest.ipynb)\n",
    "\n",
    "**Tạo video AI với khuôn mặt nói từ văn bản - Đơn giản chỉ với 2 bước!**\n",
    "\n",
    "---\n",
    "\n",
    "## ✨ Tính năng chính:\n",
    "- 🎭 **AI Talking Head**: Tạo video khuôn mặt nói từ ảnh + âm thanh\n",
    "- 🎬 **Video MC**: Ghép MC với video nền chuyên nghiệp\n",
    "- 🎙️ **Text-to-Speech**: 3 dịch vụ TTS cao cấp (GPT-4o-mini, OpenAI, Edge)\n",
    "- 🌐 **Public Access**: Truy cập từ bất kỳ thiết bị nào qua internet\n",
    "- ⚡ **GPU Optimized**: Tự động tối ưu cho GPU Colab\n",
    "- 📱 **Mobile Friendly**: Giao diện thân thiện trên mọi thiết bị\n",
    "\n",
    "## ⏱️ Thời gian setup: **3-5 phút**\n",
    "\n",
    "---"
   ]
  },
  {
   "cell_type": "markdown",
   "metadata": {
    "id": "requirements_section"
   },
   "source": [
    "## 📋 Yêu cầu hệ thống\n",
    "\n",
    "✅ **Google Colab** (Free hoặc Pro)  \n",
    "✅ **GPU Runtime** (T4 trở lên khuyến nghị)  \n",
    "✅ **Kết nối internet ổn định**  \n",
    "\n",
    "---"
   ]
  },
  {
   "cell_type": "markdown",
   "metadata": {
    "id": "api_keys_section"
   },
   "source": [
    "## 🔑 Cấu hình API Keys (Tùy chọn)\n",
    "\n",
    "### 📝 Hướng dẫn lấy API Keys:\n",
    "\n",
    "**🔸 OpenAI API Key** (Cho TTS chất lượng cao):\n",
    "1. Truy cập: https://platform.openai.com/api-keys\n",
    "2. Đăng nhập và tạo API key mới\n",
    "3. Copy và dán vào ô bên dưới\n",
    "\n",
    "**🔸 Pexels API Key** (Cho hình ảnh nền tự động):\n",
    "1. Truy cập: https://www.pexels.com/api/\n",
    "2. Đăng ký tài khoản miễn phí\n",
    "3. Copy API key và dán vào ô bên dưới\n",
    "\n",
    "**⚠️ Lưu ý**: Nếu không có API keys, bạn vẫn có thể sử dụng Edge TTS miễn phí!\n",
    "\n",
    "---"
   ]
  },
  {
   "cell_type": "code",
   "execution_count": null,
   "metadata": {
    "cellView": "form",
    "id": "api_keys_form"
   },
   "outputs": [],
   "source": [
    "#@title 🔑 Nhập API Keys (Tùy chọn) { run: \"auto\" }\n",
    "\n",
    "#@markdown ### 🔧 Cấu hình API Keys:\n",
    "#@markdown ---\n",
    "\n",
    "openai_api_key = \"\" #@param {type:\"string\", placeholder:\"Nhập OpenAI API Key (tùy chọn)...\"}\n",
    "pexels_api_key = \"\" #@param {type:\"string\", placeholder:\"Nhập Pexels API Key (tùy chọn)...\"}\n",
    "\n",
    "#@markdown ---\n",
    "#@markdown **💡 Bỏ trống nếu muốn sử dụng dịch vụ miễn phí**\n",
    "\n",
    "import os\n",
    "\n",
    "# Thiết lập API keys vào môi trường\n",
    "def setup_api_keys():\n",
    "    \"\"\"Thiết lập API keys vào biến môi trường\"\"\"\n",
    "    \n",
    "    print(\"🔧 Cấu hình API Keys...\")\n",
    "    \n",
    "    # OpenAI API Key\n",
    "    if openai_api_key.strip():\n",
    "        os.environ['OPENAI_API_KEY'] = openai_api_key.strip()\n",
    "        print(\"✅ OpenAI API Key đã được cấu hình\")\n",
    "    else:\n",
    "        print(\"ℹ️ OpenAI API Key không được cung cấp (sẽ dùng Edge TTS miễn phí)\")\n",
    "    \n",
    "    # Pexels API Key\n",
    "    if pexels_api_key.strip():\n",
    "        os.environ['PEXELS_API_KEY'] = pexels_api_key.strip()\n",
    "        print(\"✅ Pexels API Key đã được cấu hình\")\n",
    "    else:\n",
    "        print(\"ℹ️ Pexels API Key không được cung cấp (tùy chọn)\")\n",
    "    \n",
    "    print('\\n' + '━' * 50)\n",
    "    print('🎉 Cấu hình API Keys hoàn tất!')\n",
    "    print('🚀 Bây giờ bạn có thể chạy bước setup bên dưới!')\n",
    "    print('━' * 50)\n",
    "\n",
    "# Chạy thiết lập\n",
    "setup_api_keys()"
   ]
  },
  {
   "cell_type": "markdown",
   "metadata": {
    "id": "setup_section"
   },
   "source": [
    "## 🔧 BƯỚC 1: Thiết lập môi trường\n",
    "\n",
    "**Chạy cell này một lần để cài đặt tất cả dependencies và models**\n",
    "\n",
    "⏱️ **Thời gian ước tính**: 3-5 phút  \n",
    "🔄 **Chỉ cần chạy một lần** cho mỗi phiên làm việc\n",
    "\n",
    "---"
   ]
  },
  {
   "cell_type": "code",
   "execution_count": null,
   "metadata": {
    "id": "setup_environment"
   },
   "outputs": [],
   "source": [
    "# 🔧 BƯỚC 1: Thiết lập môi trường (Chạy cell này một lần)\n",
    "\n",
    "print(\"🎭 Bắt đầu thiết lập môi trường Ditto Talking Head...\")\n",
    "print(\"⏳ Vui lòng đợi 3-5 phút để hoàn tất...\\n\")\n",
    "\n",
    "# Tải và chạy script setup\n",
    "!wget -q https://raw.githubusercontent.com/linhcentrio/ditto-talkinghead/colab/run_colab.py -O run_colab.py\n",
    "!python run_colab.py\n",
    "\n",
    "print(\"\\n🎉 Thiết lập hoàn tất!\")\n",
    "print(\"🚀 Bây giờ bạn có thể chạy BƯỚC 2 để khởi động ứng dụng!\")"
   ]
  },
  {
   "cell_type": "markdown",
   "metadata": {
    "id": "launch_section"
   },
   "source": [
    "## 🚀 BƯỚC 2: Khởi động ứng dụng\n",
    "\n",
    "**Chạy cell này để khởi động giao diện web và nhận link truy cập công khai**\n",
    "\n",
    "🌐 **Public URL**: Bạn sẽ nhận được link để truy cập từ bất kỳ thiết bị nào  \n",
    "📱 **Mobile Friendly**: Hoạt động tốt trên điện thoại và tablet  \n",
    "🔄 **Real-time**: Theo dõi tiến trình xử lý trực tiếp\n",
    "\n",
    "---"
   ]
  },
  {
   "cell_type": "code",
   "execution_count": null,
   "metadata": {
    "id": "launch_application"
   },
   "outputs": [],
   "source": [
    "# 🚀 BƯỚC 2: Khởi động ứng dụng\n",
    "\n",
    "print(\"🎭 Khởi động Ditto Talking Head...\")\n",
    "print(\"⏳ Đang tạo tunnel và khởi động server...\\n\")\n",
    "\n",
    "# Tải và chạy script khởi động\n",
    "!wget -q https://raw.githubusercontent.com/linhcentrio/ditto-talkinghead/colab/start_app.py -O start_app.py\n",
    "!python start_app.py"
   ]
  },
  {
   "cell_type": "markdown",
   "metadata": {
    "id": "usage_guide_section"
   },
   "source": [
    "## 📖 Hướng dẫn sử dụng\n",
    "\n",
    "### 🎬 Tạo Video MC (MC + Background):\n",
    "\n",
    "1. **📁 Tải lên files**:\n",
    "   - **MC**: Ảnh hoặc video của người dẫn chương trình\n",
    "   - **Background**: Video nền để ghép với MC\n",
    "   - **Audio**: File âm thanh hoặc nhập văn bản để tạo TTS\n",
    "\n",
    "2. **⚙️ Điều chỉnh cài đặt**:\n",
    "   - **Vị trí MC**: Góc trên/dưới, trái/phải, hoặc chính giữa\n",
    "   - **Kích thước**: Tự động hoặc tùy chỉnh\n",
    "   - **Chất lượng**: Low/Medium/High\n",
    "\n",
    "3. **🚀 Tạo video**: Nhấn nút và chờ kết quả\n",
    "\n",
    "### 🎭 Video Khuôn Mặt AI (Pure AI):\n",
    "\n",
    "1. **📸 Tải ảnh MC**: Ảnh khuôn mặt rõ nét\n",
    "2. **🎵 Audio/Text**: Âm thanh hoặc văn bản để tạo giọng nói\n",
    "3. **🤖 Chọn mô hình**: Standard hoặc Optimized\n",
    "4. **🗣️ Tùy chỉnh khẩu hình**: Điều chỉnh chuyển động môi\n",
    "\n",
    "### 🎙️ Text-to-Speech:\n",
    "\n",
    "- **GPT-4o-mini-TTS**: 10 giọng nói với tùy chỉnh giọng điệu\n",
    "- **OpenAI TTS**: 6 giọng nói chất lượng cao\n",
    "- **Edge TTS**: Miễn phí, hỗ trợ tiếng Việt\n",
    "\n",
    "---"
   ]
  },
  {
   "cell_type": "markdown",
   "metadata": {
    "id": "tips_section"
   },
   "source": [
    "## 💡 Mẹo tối ưu\n",
    "\n",
    "### 📸 Chuẩn bị file MC:\n",
    "- ✅ Khuôn mặt rõ ràng, nhìn thẳng camera\n",
    "- ✅ Nền đồng màu hoặc loại bỏ nền\n",
    "- ✅ Ánh sáng đều, không bị tối hoặc quá sáng\n",
    "- ✅ Độ phân giải tối thiểu 512x512 pixels\n",
    "\n",
    "### 🎞️ Video nền chất lượng:\n",
    "- ✅ Định dạng MP4, tỷ lệ 16:9\n",
    "- ✅ Độ phân giải HD (1280x720) trở lên\n",
    "- ✅ Thời lượng phù hợp với audio\n",
    "- ✅ Nội dung phù hợp với chủ đề\n",
    "\n",
    "### 🎵 Audio tốt nhất:\n",
    "- ✅ File WAV hoặc MP3 chất lượng cao\n",
    "- ✅ Không có tiếng ồn nền\n",
    "- ✅ Giọng nói rõ ràng, phát âm chuẩn\n",
    "- ✅ Tốc độ nói vừa phải (không quá nhanh/chậm)\n",
    "\n",
    "### ⚡ Tối ưu hiệu suất:\n",
    "- 🎮 Sử dụng GPU T4 hoặc cao hơn\n",
    "- 💾 Đóng các tab không cần thiết\n",
    "- 🔄 Sử dụng chất lượng Medium cho cân bằng\n",
    "- ⏰ Tránh làm việc trong giờ cao điểm\n",
    "\n",
    "---"
   ]
  },
  {
   "cell_type": "markdown",
   "metadata": {
    "id": "features_section"
   },
   "source": [
    "## ✨ Tính năng nâng cao\n",
    "\n",
    "### 🗣️ Điều khiển khẩu hình AI:\n",
    "- **Mức độ chuyển động môi**: Điều chỉnh độ mạnh của chuyển động môi\n",
    "- **Thành phần biểu cảm**: Chọn các phần của khuôn mặt để animate\n",
    "- **Tỷ lệ biểu cảm**: Điều chỉnh cường độ biểu cảm khuôn mặt\n",
    "- **Offset biểu cảm**: Thay đổi hình dáng môi mặc định\n",
    "\n",
    "### 🎛️ Tùy chỉnh video:\n",
    "- **5 vị trí MC**: Góc trên/dưới, trái/phải, chính giữa\n",
    "- **Auto-scale**: Tự động tính toán kích thước phù hợp\n",
    "- **3 mức chất lượng**: Low/Medium/High\n",
    "- **GPU optimization**: Tự động chọn model phù hợp\n",
    "\n",
    "### 🔄 Workflow linh hoạt:\n",
    "- **Selective processing**: Bật/tắt từng bước xử lý\n",
    "- **Real-time progress**: Theo dõi tiến trình chi tiết\n",
    "- **Batch processing**: Xử lý nhiều video cùng lúc\n",
    "- **History management**: Quản lý lịch sử video đã tạo\n",
    "\n",
    "---"
   ]
  },
  {
   "cell_type": "markdown",
   "metadata": {
    "id": "troubleshooting_section"
   },
   "source": [
    "## 🔧 Xử lý sự cố\n",
    "\n",
    "### ❌ Vấn đề thường gặp:\n",
    "\n",
    "**🐌 Xử lý chậm hoặc timeout:**\n",
    "- Giảm chất lượng xuống \"Low\" hoặc \"Medium\"\n",
    "- Sử dụng files input nhỏ hơn (< 50MB)\n",
    "- Kiểm tra GPU memory và restart runtime nếu cần\n",
    "- Thử vào thời điểm ít người dùng\n",
    "\n",
    "**❌ Lỗi khi tạo video:**\n",
    "- Kiểm tra định dạng file đúng (MP4, JPG, PNG, WAV, MP3)\n",
    "- Đảm bảo files không bị hỏng hoặc corrupted\n",
    "- Thử restart runtime và chạy lại setup\n",
    "- Kiểm tra kết nối internet ổn định\n",
    "\n",
    "**❌ Lỗi Text-to-Speech:**\n",
    "- Kiểm tra API keys nếu sử dụng OpenAI TTS\n",
    "- Thử chuyển sang Edge TTS (miễn phí)\n",
    "- Kiểm tra văn bản không chứa ký tự đặc biệt\n",
    "- Đảm bảo kết nối internet ổn định\n",
    "\n",
    "**🔄 App bị đơ hoặc không phản hồi:**\n",
    "- Nhấn nút \"Hủy xử lý\" nếu có\n",
    "- Restart cell BƯỚC 2\n",
    "- Nếu vẫn lỗi, restart toàn bộ runtime\n",
    "- Kiểm tra logs để debug chi tiết\n",
    "\n",
    "### 🆘 Khôi phục nhanh:\n",
    "\n",
    "1. **Restart Runtime**: `Runtime > Restart Runtime`\n",
    "2. **Chạy lại API Keys**: Cell cấu hình API\n",
    "3. **Setup lại**: Cell BƯỚC 1\n",
    "4. **Khởi động lại**: Cell BƯỚC 2\n",
    "\n",
    "---"
   ]
  },
  {
   "cell_type": "markdown",
   "metadata": {
    "id": "faq_section"
   },
   "source": [
    "## ❓ FAQ - Câu hỏi thường gặp\n",
    "\n",
    "**Q: Tôi có cần trả phí để sử dụng không?**  \n",
    "A: Không! Bạn có thể sử dụng hoàn toàn miễn phí với Edge TTS và Google Colab free. OpenAI API là tùy chọn.\n",
    "\n",
    "**Q: Tại sao video tạo ra không có âm thanh?**  \n",
    "A: Kiểm tra file audio input, thử tăng volume, hoặc tạo lại TTS từ văn bản.\n",
    "\n",
    "**Q: Làm sao để video có chất lượng tốt nhất?**  \n",
    "A: Sử dụng GPU T4+, chọn chất lượng High, file input HD, và khuôn mặt MC rõ nét.\n",
    "\n",
    "**Q: Tôi có thể tạo video bao lâu?**  \n",
    "A: Tùy thuộc vào độ dài audio. Khuyến nghị < 5 phút cho hiệu suất tốt nhất.\n",
    "\n",
    "**Q: URL công khai có an toàn không?**  \n",
    "A: URL là tạm thời và sẽ thay đổi khi restart. Chỉ người có link mới truy cập được.\n",
    "\n",
    "**Q: Tôi có thể sử dụng trên điện thoại không?**  \n",
    "A: Có! Giao diện được tối ưu cho mobile. Chỉ cần truy cập link từ điện thoại.\n",
    "\n",
    "**Q: Làm sao để tải video về máy?**  \n",
    "A: Sau khi tạo xong, nhấn nút \"💾 Tải xuống video\" trong giao diện.\n",
    "\n",
    "---"
   ]
  },
  {
   "cell_type": "markdown",
   "metadata": {
    "id": "support_section"
   },
   "source": [
    "## 🆘 Hỗ trợ & Liên hệ\n",
    "\n",
    "**📧 Báo lỗi**: [GitHub Issues](https://github.com/linhcentrio/ditto-talkinghead/issues)  \n",
    "**📚 Documentation**: [Wiki](https://github.com/linhcentrio/ditto-talkinghead/wiki)  \n",
    "**💬 Community**: [Discussions](https://github.com/linhcentrio/ditto-talkinghead/discussions)  \n",
    "\n",
    "### 🤝 Đóng góp:\n",
    "- ⭐ Star repo nếu hữu ích\n",
    "- 🐛 Báo cáo bugs\n",
    "- 💡 Đề xuất tính năng mới\n",
    "- 📝 Cải thiện documentation\n",
    "\n",
    "---\n",
    "\n",
    "## 📄 License & Credits\n",
    "\n",
    "**License**: MIT License  \n",
    "**Credits**: Based on DualTalking, SadTalker, and various open-source projects  \n",
    "**Maintainer**: [@linhcentrio](https://github.com/linhcentrio)  \n",
    "\n",
    "---\n",
    "\n",
    "<div align=\"center\">\n",
    "\n",
    "**🎭 Ditto Talking Head - AI Video Generation Made Simple**\n",
    "\n",
    "*Tạo video AI chất lượng cao chỉ với vài click chuột*\n",
    "\n",
    "[![GitHub stars](https://img.shields.io/github/stars/linhcentrio/ditto-talkinghead?style=social)](https://github.com/linhcentrio/ditto-talkinghead)\n",
    "[![Open In Colab](https://colab.research.google.com/assets/colab-badge.svg)](https://colab.research.google.com/github/linhcentrio/ditto-talkinghead/blob/colab/ditto_talkinghead_latest.ipynb)\n",
    "\n",
    "</div>"
   ]
  }
 ],
 "metadata": {
  "accelerator": "GPU",
  "colab": {
   "collapsed_sections": [
    "requirements_section",
    "api_keys_section",
    "usage_guide_section",
    "tips_section",
    "features_section",
    "troubleshooting_section",
    "faq_section",
    "support_section"
   ],
   "gpuType": "T4",
   "provenance": []
  },
  "kernelspec": {
   "display_name": "Python 3",
   "name": "python3"
  },
  "language_info": {
   "name": "python"
  }
 },
 "nbformat": 4,
 "nbformat_minor": 0
}

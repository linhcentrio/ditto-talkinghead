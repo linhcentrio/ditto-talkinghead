{
  "cells": [
    {
      "cell_type": "markdown",
      "metadata": {},
      "source": [
        "# 🎬 AI Video Creator\n",
        "\n",
        "Chào mừng bạn đến với AI Video Creator!  \n",
        "Ứng dụng này cho phép bạn tạo ra các video với khuôn mặt nói dựa trên âm thanh hoặc văn bản một cách dễ dàng.\n",
        "\n",
        "## Tính năng nổi bật:\n",
        "- 🎤 Tạo âm thanh từ văn bản với giọng nói tự nhiên\n",
        "- 🎭 Tạo video khuôn mặt nói từ hình ảnh hoặc video\n",
        "- 🎬 Ghép video MC với video nền\n",
        "- 📝 Tự động tạo phụ đề cho video\n",
        "- 🌐 Giao diện web dễ sử dụng qua Streamlit\n",
        "\n",
        "---"
      ]
    },
    {
      "cell_type": "code",
      "execution_count": null,
      "metadata": {},
      "outputs": [],
      "source": [
        "# 🔧 BƯỚC 1: Thiết lập môi trường (Chạy cell này một lần)\n",
        "!wget -q https://raw.githubusercontent.com/linhcentrio/ditto-talkinghead/colab/run_colab.py -O run_colab.py\n",
        "!python run_colab.py"
      ]
    },
    {
      "cell_type": "code",
      "execution_count": null,
      "metadata": {},
      "outputs": [],
      "source": [
        "# 🚀 BƯỚC 2: Khởi động ứng dụng (Nhấn nút bên dưới để chạy)\n",
        "!wget -q https://raw.githubusercontent.com/linhcentrio/ditto-talkinghead/colab/start_app.py -O start_app.py\n",
        "!python start_app.py"
      ]
    },
    {
      "cell_type": "markdown",
      "metadata": {},
      "source": [
        "---\n",
        "\n",
        "## 📖 Hướng dẫn sử dụng:\n",
        "1. **Chạy Bước 1** - Chờ cho quá trình thiết lập hoàn tất (từ 3-5 phút).\n",
        "2. **Chạy Bước 2** - Nhấn nút và đợi URL của CloudFlared hiển thị.\n",
        "3. **Sử dụng giao diện web** - Tải lên file video, audio hoặc nhập văn bản để tạo video.\n",
        "4. **Tạo video** - AI sẽ tạo video khuôn mặt nói dựa trên đầu vào của bạn.\n",
        "\n",
        "## 🎯 Định dạng hỗ trợ:\n",
        "- **MC đầu vào**: JPG, PNG, MP4 (video/hình ảnh nhân vật)\n",
        "- **Nền**: MP4 (video nền)\n",
        "- **Âm thanh**: WAV, MP3 hoặc văn bản để tạo âm thanh\n",
        "- **Đầu ra**: MP4 với phụ đề\n",
        "\n",
        "## 🔧 Xử lý sự cố:\n",
        "- Nếu thiết lập không thành công, hãy khởi động lại runtime và thử lại.\n",
        "- Nếu ứng dụng không khởi động, hãy thử chạy lại Bước 2.\n",
        "- Để có kết quả tốt nhất, hãy sử dụng hình ảnh và âm thanh rõ ràng.\n",
        "\n",
        "---\n",
        "*Ứng dụng này được phát triển để phục vụ cho việc tạo video AI một cách dễ dàng và hiệu quả.*"
      ]
    }
  ],
  "metadata": {
    "kernelspec": {
      "display_name": "Python 3",
      "name": "python3"
    },
    "language_info": {
      "name": "python"
    }
  },
  "nbformat": 4,
  "nbformat_minor": 0
}
